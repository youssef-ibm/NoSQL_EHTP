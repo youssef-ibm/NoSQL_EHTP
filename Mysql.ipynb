{
 "cells": [
  {
   "cell_type": "code",
   "execution_count": 18,
   "metadata": {},
   "outputs": [],
   "source": [
    "from bs4 import BeautifulSoup\n",
    "import requests\n",
    "import lxml\n",
    "import pymysql"
   ]
  },
  {
   "cell_type": "markdown",
   "metadata": {},
   "source": [
    "# Partie 1 : Chargement des données et création de la BD relationnelle sous MySQL"
   ]
  },
  {
   "cell_type": "markdown",
   "metadata": {},
   "source": [
    "1). Analyser les données d’indicateurs du RGPH2014 selon les 6 thèmes (au niveau des\n",
    "communes) puis définir le schéma global de la BD relationnelle qui va contenir ces\n",
    "données."
   ]
  },
  {
   "cell_type": "markdown",
   "metadata": {},
   "source": [
    "<img src=\"Schéma global de la BD HCP.PNG\">"
   ]
  },
  {
   "cell_type": "markdown",
   "metadata": {},
   "source": [
    "**2).Créer une BD MySQL**"
   ]
  },
  {
   "cell_type": "code",
   "execution_count": 22,
   "metadata": {},
   "outputs": [],
   "source": [
    "url= 'http://rgphentableaux.hcp.ma/Default1/'\n",
    "headers = {\n",
    "    \"User-Agent\":\"Mozilla/5.0 (Windows NT 10.0; Win64; x64) AppleWebKit/537.36 (KHTML, like Gecko) Chrome/79.0.3945.130 Safari/537.36\",\n",
    "    \"Referer\":\"http://rgphentableaux.hcp.ma/\"\n",
    "}\n",
    "\n",
    "s = requests.Session()\n",
    "s.headers.update(headers)\n",
    "r = s.get(url)\n",
    "soup = BeautifulSoup(r.content , \"lxml\")"
   ]
  },
  {
   "cell_type": "code",
   "execution_count": 23,
   "metadata": {},
   "outputs": [],
   "source": [
    "selectCommune = soup.find('select', {'id':'COMMUNELIST'})"
   ]
  },
  {
   "cell_type": "code",
   "execution_count": null,
   "metadata": {},
   "outputs": [],
   "source": [
    "connection = pymysql.connect(host='192.168.56.2', port=3306, user='hcp', password='Hcp-001', database='db_mysql_hcp')\n",
    "cursor = connection.cursor()"
   ]
  },
  {
   "cell_type": "code",
   "execution_count": null,
   "metadata": {},
   "outputs": [],
   "source": [
    "cursor.execute(\n",
    "    \"\"\"\n",
    "        CREATE TABLE pays (\n",
    "            id INT NOT NULL AUTO_INCREMENT,\n",
    "            code VARCHAR ( 5 ) UNIQUE,\n",
    "            nom VARCHAR ( 50 ) NOT NULL,\n",
    "        PRIMARY KEY ( id ) \n",
    "        );\n",
    "    \"\"\"\n",
    ")"
   ]
  },
  {
   "cell_type": "code",
   "execution_count": null,
   "metadata": {},
   "outputs": [],
   "source": [
    "cursor.execute(\n",
    "    \"\"\"\n",
    "        CREATE TABLE regions (\n",
    "            id INT NOT NULL AUTO_INCREMENT,\n",
    "            code VARCHAR ( 10 ) UNIQUE,\n",
    "            nom VARCHAR ( 50 ) NOT NULL,\n",
    "            code_pays VARCHAR ( 5 ),\n",
    "            PRIMARY KEY ( id ),\n",
    "        CONSTRAINT fk_pays FOREIGN KEY ( code_pays ) REFERENCES pays ( code ) \n",
    "        );\n",
    "    \"\"\"\n",
    ")"
   ]
  },
  {
   "cell_type": "code",
   "execution_count": null,
   "metadata": {},
   "outputs": [],
   "source": [
    "cursor.execute(\n",
    "    \"\"\"\n",
    "        CREATE TABLE provinces (\n",
    "            id INT NOT NULL AUTO_INCREMENT,\n",
    "            code VARCHAR ( 20 ) UNIQUE,\n",
    "            nom VARCHAR ( 50 ) NOT NULL,\n",
    "            code_region VARCHAR ( 10 ),\n",
    "            PRIMARY KEY ( id ),\n",
    "        CONSTRAINT fk_region FOREIGN KEY ( code_region ) REFERENCES regions ( code ) \n",
    "        );\n",
    "    \"\"\"\n",
    ")"
   ]
  },
  {
   "cell_type": "code",
   "execution_count": null,
   "metadata": {},
   "outputs": [],
   "source": [
    "tb_communes = \"\"\"\n",
    "CREATE TABLE communes \n",
    "(id INT NOT NULL AUTO_INCREMENT,\n",
    "code_commune VARCHAR(20) UNIQUE , \n",
    "code_province VARCHAR ( 20 ), \n",
    "nom_commune VARCHAR(50) NOT NULL,\n",
    "PRIMARY KEY ( id ) , \n",
    "CONSTRAINT fk_province FOREIGN KEY ( code_province ) REFERENCES provinces ( code ) ) ;\n",
    "\"\"\"\n",
    "cursor.execute(tb_communes)"
   ]
  },
  {
   "cell_type": "code",
   "execution_count": null,
   "metadata": {},
   "outputs": [],
   "source": [
    "cursor.execute(\n",
    "    \"\"\"\n",
    "        CREATE TABLE themes (\n",
    "            id INT NOT NULL AUTO_INCREMENT,\n",
    "            code VARCHAR ( 10 ) UNIQUE,\n",
    "            libelle VARCHAR ( 50 ) NOT NULL,\n",
    "            PRIMARY KEY ( id )\n",
    "        );\n",
    "    \"\"\"\n",
    ")"
   ]
  },
  {
   "cell_type": "code",
   "execution_count": null,
   "metadata": {},
   "outputs": [],
   "source": [
    "cursor.execute(\n",
    "    \"\"\"\n",
    "        CREATE TABLE indicateurs (\n",
    "            id INT NOT NULL AUTO_INCREMENT,\n",
    "            code_theme VARCHAR ( 10 ),\n",
    "            libelle VARCHAR ( 200 ) NOT NULL,\n",
    "            PRIMARY KEY ( id ),\n",
    "        CONSTRAINT fk_theme FOREIGN KEY ( code_theme ) REFERENCES themes ( code ) \n",
    "        );\n",
    "    \"\"\"\n",
    ")"
   ]
  },
  {
   "cell_type": "markdown",
   "metadata": {},
   "source": [
    "------------------------------------------------------------------------------------------------"
   ]
  },
  {
   "cell_type": "markdown",
   "metadata": {},
   "source": [
    "**Creation des tables pour les Themes :**"
   ]
  },
  {
   "cell_type": "markdown",
   "metadata": {},
   "source": [
    "------------------------------------------------------------------------------------------------"
   ]
  },
  {
   "cell_type": "code",
   "execution_count": 19,
   "metadata": {},
   "outputs": [],
   "source": [
    "def supprime_accent( ligne):\n",
    "        \"\"\" supprime les accents du texte source \"\"\"\n",
    "        print (ligne)\n",
    "        accents = { 'a': ['à', 'ã', 'á', 'â'],\n",
    "                    'e': ['é', 'è', 'ê', 'ë', 'É'],\n",
    "                    'i': ['î', 'ï'],\n",
    "                    'u': ['ù', 'ü', 'û'],\n",
    "                    'o': ['ô', 'ö'],\n",
    "                    '*': [' ','.','dans' ,'(',')',',', 'et*' ,'le*' , 'la*' ,'-','*a*' , 'les*', 'des*' , 'selon', 'l\\'' , 'd\\'' , 'de*' , 'du*'],\n",
    "                    '_': ['*****', '****', '***', '**', '*'],\n",
    "                    '': ['repartition_' , 'population_' , 'abetisee']\n",
    "                  }\n",
    "        for char, accented_chars in accents.items():\n",
    "            for accented_char in accented_chars:\n",
    "                ligne = ligne.replace(accented_char, char)\n",
    "        return ligne"
   ]
  },
  {
   "cell_type": "code",
   "execution_count": null,
   "metadata": {},
   "outputs": [],
   "source": [
    "list_themes = {\n",
    "    '2':'demographie',\n",
    "    '3':'handicap',\n",
    "    '4':'education_alphabetisation',\n",
    "    '5':'langues_locales',\n",
    "    '6':'activite_emploi',\n",
    "    '7':'conditions_habitat'\n",
    "}\n",
    "\n",
    "for k, v in list_themes.items():\n",
    "    name_table = v\n",
    "    valueB = 1\n",
    "    length = 4\n",
    "    if k == 7 :\n",
    "        valueB = 4\n",
    "        length = 3\n",
    "    url = 'http://rgphentableaux.hcp.ma/Default1/getDATA/?type=Maroc&CGEO=&them='+k+''\n",
    "    he ={'Referer': 'http://rgphentableaux.hcp.ma/Default1/'}\n",
    "    dataOut = requests.get(url,headers = he ).json()     \n",
    "    listColumn = []\n",
    "\n",
    "    ##################################################################################\"\"\n",
    "    for line in dataOut :\n",
    "        indicateur = line.get('INDICATEUR')\n",
    "        dataB = line.get('DATA_B')\n",
    "        #if dataB  == 1 :\n",
    "        if dataB  == valueB :\n",
    "            #indicateur = indicateur[4:].lower()\n",
    "            indicateur = indicateur[length:].lower()\n",
    "            indicateur = supprime_accent(indicateur)\n",
    "            if indicateur not in listColumn:\n",
    "                listColumn.append(indicateur)\n",
    "    ############################################################################\"\"\n",
    "    query = \"CREATE TABLE \"+name_table+\" ( id INT NOT NULL AUTO_INCREMENT, code_commune VARCHAR (20)\"\n",
    "    for col in listColumn:\n",
    "        query = query + \", \"+col+\" DOUBLE\"\n",
    "    query = query + \", PRIMARY KEY ( id ), CONSTRAINT fk_\"+name_table + \"_commune FOREIGN KEY ( code_commune ) REFERENCES communes ( code_commune ));\"\n",
    "\n",
    "    cursor.execute(query)"
   ]
  },
  {
   "cell_type": "markdown",
   "metadata": {},
   "source": [
    "**3) Charger les données dans cette BD :**"
   ]
  },
  {
   "cell_type": "code",
   "execution_count": null,
   "metadata": {},
   "outputs": [],
   "source": [
    "#cherger les données dans la tables Regions\n",
    "selectRegion = soup.find('select', {'id':'REGIONSLIST'})\n",
    "\n",
    "regions = \"\"\n",
    "for option in selectRegion.find_all('option'):\n",
    "    regions = regions + \"(\\\"\" + option['value'].strip() + \"\\\" , \\\"\"+ option.text.strip() + \"\\\" , \\\"1\\\"),\"\n",
    "regions = regions.strip()[:-1] + \";\"\n",
    "\n",
    "insert_regions = \"insert into regions (code , nom , code_pays ) values \" + regions\n",
    "\n",
    "cursor.execute(insert_regions)\n",
    "connection.commit()"
   ]
  },
  {
   "cell_type": "code",
   "execution_count": null,
   "metadata": {},
   "outputs": [],
   "source": [
    "#cherger les données dans la tables Provinces\n",
    "selectProvince = soup.find('select', {'id':'PROVINCESLIST'})\n",
    "\n",
    "provinces = \"\"\n",
    "for option in selectProvince.find_all('option'):\n",
    "    provinces = provinces + \"(\\\"\" + option['value'].strip() + \"\\\" , \\\"\"+ option.text.strip() + \"\\\" , \\\"01\\\"),\"\n",
    "provinces = provinces.strip()[:-1] + \";\"\n",
    "\n",
    "insert_provinces = \"insert into provinces (code , nom , code_region ) values \" + provinces\n",
    "\n",
    "cursor.execute(insert_provinces)\n",
    "connection.commit()"
   ]
  },
  {
   "cell_type": "code",
   "execution_count": null,
   "metadata": {},
   "outputs": [],
   "source": [
    "#cherger les données dans la tables communes\n",
    "selectCommune = soup.find('select', {'id':'COMMUNELIST'})\n",
    "\n",
    "communes = \"\"\n",
    "for option in selectCommune.find_all('option'):\n",
    "    #print('value: '+option['value'].strip()[:-1] +', text: '+option.text)\n",
    "    communes = communes + \"(\\\"\" + option['value'].strip()[:-1] + \"\\\" , \\\"\"+ option.text.strip() + \"\\\" , \\\"\"+option['value'].strip()[:3]+\"\\\"),\"\n",
    "communes = communes.strip()[:-1] + \";\"\n",
    "\n",
    "insert_communes = \"insert into communes (code_commune , nom_commune , code_province ) values \" + communes\n",
    "cursor.execute(insert_communes)\n",
    "connection.commit()"
   ]
  },
  {
   "cell_type": "code",
   "execution_count": null,
   "metadata": {},
   "outputs": [],
   "source": [
    "#Ajouter les clés étrangères(regions) dans la table provinces\n",
    "import json\n",
    "\n",
    "with open('regions_provinces.json') as json_file:\n",
    "    data = json.load(json_file)\n",
    "    \n",
    "for attribute , value in data.items():  \n",
    "    query = \"update provinces set code_region = '\"+value['code_region']+\"' where code ='\"+attribute+\"';\"\n",
    "    #print(query)\n",
    "    cursor.execute(query)\n",
    "    connection.commit()"
   ]
  },
  {
   "cell_type": "code",
   "execution_count": 27,
   "metadata": {},
   "outputs": [],
   "source": [
    "#la fonction getData permet de charger les données dans la table donner en parametres\n",
    "def getData( code_theme , table , code_commune ):\n",
    "    url = \"http://rgphentableaux.hcp.ma/Default1/getDATA/?type=Commune&CGEO=\"+code_commune+\".&them=\"+code_theme\n",
    "    header ={'Referer': 'http://rgphentableaux.hcp.ma/Default1/'}\n",
    "    dataOut = requests.get(url,headers = header ).json() \n",
    "\n",
    "    insert_queryUF = \"insert into \"+ table +\" values (NULL,'\"+ code_commune +\"',\"\n",
    "    insert_queryUM = \"insert into \"+ table +\" values (NULL,'\"+ code_commune +\"',\"\n",
    "    insert_queryRF = \"insert into \"+ table +\" values (NULL,'\"+ code_commune +\"',\"\n",
    "    insert_queryRM = \"insert into \"+ table +\" values (NULL,'\"+ code_commune +\"',\"\n",
    "    \n",
    "    for line in dataOut :\n",
    "        indicateur = line.get('INDICATEUR')\n",
    "        zone_geographique = line.get('DATA_B')\n",
    "    \n",
    "        valeur = line.get('DATA2014').replace(',','.')\n",
    "        try:\n",
    "            observation = float(valeur)\n",
    "        except ValueError:\n",
    "            observation = 0\n",
    "        \n",
    "        if zone_geographique == 2 :\n",
    "            if indicateur[2:3] == 'M':\n",
    "                insert_queryUM = insert_queryUM + str(observation)+\",\"\n",
    "            if indicateur[2:3] == 'F':    \n",
    "                insert_queryUF = insert_queryUF + str(observation)+\",\"\n",
    "            if indicateur[2:3] == '_':\n",
    "                insert_queryUM = insert_queryUM + str(observation)+\",\"\n",
    "                \n",
    "        if zone_geographique == 3 :\n",
    "            if indicateur[2:3] == 'M':\n",
    "                insert_queryRM = insert_queryRM + str(observation)+\",\"\n",
    "            if indicateur[2:3] == 'F':\n",
    "                insert_queryRF = insert_queryRF + str(observation)+\",\"\n",
    "            if indicateur[2:3] == '_': \n",
    "                insert_queryRM = insert_queryRM + str(observation)+\",\"\n",
    "    \n",
    "    if code_theme == '7' :\n",
    "        insert_queryUM = insert_queryUM  +\"2);\"\n",
    "        insert_queryRM = insert_queryRM  +\"3);\"\n",
    "        cursor.execute(insert_queryUM)\n",
    "        cursor.execute(insert_queryRM)\n",
    "    else : \n",
    "        insert_queryUM = insert_queryUM  +\"0,2);\"            \n",
    "        insert_queryUF = insert_queryUF  +\"1,2);\"\n",
    "        insert_queryRM = insert_queryRM  +\"0,3);\"            \n",
    "        insert_queryRF = insert_queryRF  +\"1,3);\"\n",
    "        print(insert_queryUM)\n",
    "        print(insert_queryUF)\n",
    "        print(insert_queryRM)\n",
    "        print(insert_queryRF)\n",
    "        cursor.execute(insert_queryUM)\n",
    "        cursor.execute(insert_queryUF)\n",
    "        cursor.execute(insert_queryRM)\n",
    "        cursor.execute(insert_queryRF)\n",
    "    connection.commit()"
   ]
  },
  {
   "cell_type": "code",
   "execution_count": null,
   "metadata": {},
   "outputs": [],
   "source": [
    "#Liste des communes\n",
    "list_communes = []\n",
    "for option in selectCommune.find_all('option'):\n",
    "    list_communes.append(option['value'].strip()[:-1]) \n",
    "list_communes\n",
    "\n",
    "#liste des themes\n",
    "list_themes = {\n",
    "    '2':'demographie',\n",
    "    '3':'handicap',\n",
    "    '4':'education_alphabetisation',\n",
    "    '5':'langues_locales',\n",
    "    '6':'activite_emploi',\n",
    "    '7':'conditions_habitat'\n",
    "}\n",
    "\n",
    "#Charger les données dans cette BD\n",
    "for code, theme in list_themes.items():\n",
    "    for codeCommune in list_communes:\n",
    "        getData( code , theme , codeCommune )"
   ]
  },
  {
   "cell_type": "markdown",
   "metadata": {},
   "source": [
    "# Partie 2 : Interrogation de la BD MySQL"
   ]
  },
  {
   "cell_type": "code",
   "execution_count": 51,
   "metadata": {},
   "outputs": [
    {
     "name": "stdout",
     "output_type": "stream",
     "text": [
      "((33610084.0,),)\n"
     ]
    }
   ],
   "source": [
    "#Quel est le total de la population municipale du Maroc\n",
    "\n",
    "queryQ4 =\"\"\"SELECT sum(population_municipale) from \n",
    "demographie , communes , provinces , regions , pays\n",
    "where \n",
    "demographie.code_commune = communes.code_commune\n",
    "and communes.code_province = provinces.code\n",
    "and provinces.code_region = regions.code\n",
    "and regions.code_pays = pays.code\n",
    "and pays.code = '1';\"\"\"\n",
    "nb_rows = cursor.execute(queryQ4)\n",
    "dataOutQ4 = cursor.fetchall()\n",
    "print(dataOutQ4)"
   ]
  },
  {
   "cell_type": "code",
   "execution_count": 52,
   "metadata": {},
   "outputs": [
    {
     "data": {
      "text/plain": [
       "((517376.0, 'Meknès'),\n",
       " (492873.0, 'Oujda'),\n",
       " (467880.0, 'Hay-Hassani'),\n",
       " (452863.0, 'Sidi Moumen'),\n",
       " (423890.0, 'Kénitra'),\n",
       " (420288.0, 'Agadir'),\n",
       " (409829.0, 'Ménara'),\n",
       " (385922.0, 'Bni Makada'),\n",
       " (377866.0, 'Tétouan'),\n",
       " (376772.0, 'Aîn-Chock'))"
      ]
     },
     "execution_count": 52,
     "metadata": {},
     "output_type": "execute_result"
    }
   ],
   "source": [
    "#Quels sont les dix premières communes les plus peuplées du Maroc\n",
    "\n",
    "queryQ5 =\"\"\"select sum(demographie.population_municipale) as sum_population_municipale , communes.nom_commune \n",
    "from demographie , communes\n",
    "where demographie.code_commune = communes.code_commune\n",
    "group by demographie.code_commune , communes.nom_commune\n",
    "order by sum_population_municipale desc\n",
    "limit 10;\"\"\"\n",
    "nb_rows = cursor.execute(queryQ5)\n",
    "dataOutQ5 = cursor.fetchall()\n",
    "dataOutQ5"
   ]
  },
  {
   "cell_type": "code",
   "execution_count": 53,
   "metadata": {},
   "outputs": [
    {
     "data": {
      "text/plain": [
       "((51,),)"
      ]
     },
     "execution_count": 53,
     "metadata": {},
     "output_type": "execute_result"
    }
   ],
   "source": [
    "#Quel est le nombre de communes existant hors les régions de Rabat et Casablanca ayant une\n",
    "#population municipale supérieur à 50 000 habitants, un taux de chômage inférieur à 15%, un\n",
    "#Taux net d'activité féminin supérieur à 30% et un taux d’analphabétisme inférieur à 20%\n",
    "\n",
    "queryQ6 =\"\"\"select count(communes.code_commune) as nb_communes \n",
    "from communes , provinces , regions  \n",
    "where communes.code_province = provinces.code\n",
    "and provinces.code_region = regions.code\n",
    "and regions.code not in ('04','06')\n",
    "and communes.code_commune in \n",
    "    (select actEmp.code_commune from activite_emploi as actEmp \n",
    "    group by actEmp.code_commune\n",
    "    having sum(actEmp.taux_chomage)/2 > 15 \n",
    "    and sum(actEmp.taux_n_activite)/2 > 30 )\n",
    "and communes.code_commune in \n",
    "    (select edAlph.code_commune from education_alphabetisation edAlph\n",
    "    group by edAlph.code_commune \n",
    "    having sum(edAlph.taux_analphabetisme)/2 > 20 )\n",
    "and communes.code_commune in \n",
    "    (select demo.code_commune from demographie as demo \n",
    "    group by demo.code_commune \n",
    "    having  sum(demo.population_municipale)>50000);\"\"\"\n",
    "nb_rows = cursor.execute(queryQ6)\n",
    "dataOutQ6 = cursor.fetchall()\n",
    "dataOutQ6"
   ]
  },
  {
   "cell_type": "code",
   "execution_count": 54,
   "metadata": {},
   "outputs": [
    {
     "data": {
      "text/plain": [
       "(('Oued Ed-Dahab', 0.9),)"
      ]
     },
     "execution_count": 54,
     "metadata": {},
     "output_type": "execute_result"
    }
   ],
   "source": [
    "#Quelle est la province ayant le taux de prévalence d’handicap le plus faible\n",
    "\n",
    "queryQ7 =\"\"\"select provinces.nom , avg(han_s.taux_prevalence) as Min_Taux_Prevalence\n",
    "from handicap ha \n",
    "join (select han.code_commune as code_commune , sum(han.taux_prevalence_handicap)/2 as taux_prevalence\n",
    "    from handicap han \n",
    "    group by han.code_commune) as han_s\n",
    "on han_s.code_commune = ha.code_commune\n",
    "join communes \n",
    "on communes.code_commune = ha.code_commune\n",
    "join provinces \n",
    "on provinces.code = communes.code_province\n",
    "group by communes.code_province , provinces.nom\n",
    "order by Min_Taux_Prevalence asc\n",
    "limit 1;\"\"\"\n",
    "nb_rows = cursor.execute(queryQ7)\n",
    "dataOutQ7 = cursor.fetchall()\n",
    "dataOutQ7"
   ]
  },
  {
   "cell_type": "code",
   "execution_count": 55,
   "metadata": {},
   "outputs": [
    {
     "data": {
      "text/plain": [
       "(('Tanger-Tetouan-Al Hoceima', 32.229729729729726, 'Masculin'),\n",
       " ('Oriental', 32.962790697674414, 'Masculin'),\n",
       " ('Fès-Meknès', 31.844615384615395, 'Masculin'),\n",
       " ('Rabat-Salé-Kénitra', 31.643478260869575, 'Masculin'),\n",
       " ('Béni Mellal-Khénifra', 31.59736842105264, 'Masculin'),\n",
       " ('Casablanca-Settat', 31.518965517241373, 'Masculin'),\n",
       " ('Marrakech-Safi', 30.885106382978726, 'Masculin'),\n",
       " ('Drâa-Tafilalet', 30.726923076923075, 'Masculin'),\n",
       " ('Souss-Massa', 30.82857142857143, 'Masculin'),\n",
       " ('Guelmim-Oued Noun', 32.1, 'Masculin'),\n",
       " ('Laayoune-Sakia El Hamra', 31.32, 'Masculin'),\n",
       " ('Eddakhla-Oued Eddahab', 15.5, 'Masculin'),\n",
       " ('Tanger-Tetouan-Al Hoceima', 31.37286821705425, 'Masculin'),\n",
       " ('Oriental', 31.948958333333334, 'Masculin'),\n",
       " ('Fès-Meknès', 30.648447204968964, 'Masculin'),\n",
       " ('Rabat-Salé-Kénitra', 30.17692307692308, 'Masculin'),\n",
       " ('Béni Mellal-Khénifra', 29.748739495798326, 'Masculin'),\n",
       " ('Casablanca-Settat', 30.228225806451604, 'Masculin'),\n",
       " ('Marrakech-Safi', 29.347807017543836, 'Masculin'),\n",
       " ('Drâa-Tafilalet', 29.63669724770642, 'Masculin'),\n",
       " ('Souss-Massa', 30.81558441558441, 'Masculin'),\n",
       " ('Guelmim-Oued Noun', 33.28666666666667, 'Masculin'),\n",
       " ('Laayoune-Sakia El Hamra', 33.70666666666667, 'Masculin'),\n",
       " ('Eddakhla-Oued Eddahab', 23.963636363636365, 'Masculin'),\n",
       " ('Tanger-Tetouan-Al Hoceima', 26.621621621621614, 'Féminin'),\n",
       " ('Oriental', 26.63255813953488, 'Féminin'),\n",
       " ('Fès-Meknès', 25.578461538461543, 'Féminin'),\n",
       " ('Rabat-Salé-Kénitra', 26.121739130434786, 'Féminin'),\n",
       " ('Béni Mellal-Khénifra', 24.88421052631579, 'Féminin'),\n",
       " ('Casablanca-Settat', 25.591379310344827, 'Féminin'),\n",
       " ('Marrakech-Safi', 24.86808510638298, 'Féminin'),\n",
       " ('Drâa-Tafilalet', 25.503846153846155, 'Féminin'),\n",
       " ('Souss-Massa', 26.1, 'Féminin'),\n",
       " ('Guelmim-Oued Noun', 26.53, 'Féminin'),\n",
       " ('Laayoune-Sakia El Hamra', 24.98, 'Féminin'),\n",
       " ('Eddakhla-Oued Eddahab', 11.75, 'Féminin'),\n",
       " ('Tanger-Tetouan-Al Hoceima', 27.5341085271318, 'Féminin'),\n",
       " ('Oriental', 26.38541666666666, 'Féminin'),\n",
       " ('Fès-Meknès', 25.520496894409934, 'Féminin'),\n",
       " ('Rabat-Salé-Kénitra', 23.95384615384616, 'Féminin'),\n",
       " ('Béni Mellal-Khénifra', 22.819327731092432, 'Féminin'),\n",
       " ('Casablanca-Settat', 23.229838709677423, 'Féminin'),\n",
       " ('Marrakech-Safi', 23.209210526315797, 'Féminin'),\n",
       " ('Drâa-Tafilalet', 25.37614678899083, 'Féminin'),\n",
       " ('Souss-Massa', 28.42727272727273, 'Féminin'),\n",
       " ('Guelmim-Oued Noun', 29.21333333333333, 'Féminin'),\n",
       " ('Laayoune-Sakia El Hamra', 28.486666666666668, 'Féminin'),\n",
       " ('Eddakhla-Oued Eddahab', 13.163636363636362, 'Féminin'))"
      ]
     },
     "execution_count": 55,
     "metadata": {},
     "output_type": "execute_result"
    }
   ],
   "source": [
    "#Quel est l’âge moyen au premier mariage par genre (masculin, féminin) et par secteur\n",
    "#(urbain, rural) au niveau de chaque région ?\n",
    "\n",
    "queryQ8 =\"\"\"select regions.nom , avg(demo.age_moyen_au_premier_mariage)  , \n",
    "case when demo.sexe = 0 then 'Masculin'\n",
    "else 'Féminin' end as sexe\n",
    "from demographie as demo\n",
    "join communes\n",
    "on communes.code_commune = demo.code_commune\n",
    "join provinces\n",
    "on provinces.code = communes.code_province\n",
    "join regions\n",
    "on provinces.code_region = regions.code\n",
    "group by demo.sexe , categorie_territoriale , regions.code , regions.nom;\"\"\"\n",
    "nb_rows = cursor.execute(queryQ8)\n",
    "dataOutQ8 = cursor.fetchall()\n",
    "dataOutQ8"
   ]
  },
  {
   "cell_type": "code",
   "execution_count": 56,
   "metadata": {},
   "outputs": [
    {
     "data": {
      "text/plain": [
       "(('Figuig',),\n",
       " ('Taourirt',),\n",
       " ('Boujdour',),\n",
       " ('Midelt',),\n",
       " ('Jerada',),\n",
       " ('Taroudannt',),\n",
       " ('Tétouan',))"
      ]
     },
     "execution_count": 56,
     "metadata": {},
     "output_type": "execute_result"
    }
   ],
   "source": [
    "#Dans quelles provinces se trouvent-elles les dix communes ayant le taux d’analphabétisme\n",
    "#le plus élevé\n",
    "queryQ9 =\"\"\"\n",
    "select distinct provinces.nom \n",
    "from provinces\n",
    "join communes\n",
    "on provinces.code = communes.code_province\n",
    "join (\n",
    "    select education_alphabetisation.code_commune as code_communes , sum(taux_analphabetisme)/2 as analphabetisme\n",
    "    from education_alphabetisation\n",
    "    group by education_alphabetisation.code_commune  \n",
    "    order by analphabetisme desc\n",
    "    limit 10\n",
    "    ) top_communes\n",
    "on top_communes.code_communes = communes.code_commune;\"\"\"\n",
    "nb_rows = cursor.execute(queryQ9)\n",
    "dataOutQ9 = cursor.fetchall()\n",
    "dataOutQ9"
   ]
  },
  {
   "cell_type": "code",
   "execution_count": 58,
   "metadata": {},
   "outputs": [
    {
     "data": {
      "text/plain": [
       "(('Agadir Ida Ou Tanane',),\n",
       " ('Al Haouz',),\n",
       " ('Al Hoceima',),\n",
       " ('Azilal',),\n",
       " ('Chichaoua',),\n",
       " ('Chtouka Ait Baha',),\n",
       " ('Essaouira',),\n",
       " ('Guelmim',),\n",
       " ('Inezgane Ait Melloul',),\n",
       " ('Ouarzazate',),\n",
       " ('Sidi Ifni',),\n",
       " ('Taroudannt',),\n",
       " ('Tata',),\n",
       " ('Tiznit',),\n",
       " ('Zagora',))"
      ]
     },
     "execution_count": 58,
     "metadata": {},
     "output_type": "execute_result"
    }
   ],
   "source": [
    "#Quelles sont les provinces où la langue locale « Tachelhit » est plus utilisée que\n",
    "#« Tamazight » dans le cas où le pourcentage cumulé de ces deux langues locales dépasse\n",
    "#50% ?\n",
    "queryQ11 =\"\"\"\n",
    "select distinct provinces.nom \n",
    "from provinces \n",
    "join communes on provinces.code = communes.code_province\n",
    "join(\n",
    "select langues_locales.code_commune as code_commune , \n",
    "sum(langues_loca_utilisees_non_exclusives__tachelhit)/2 as tachelhit , \n",
    "sum(langues_loca_utilisees_non_exclusives__tamazight)/2 as tamazight \n",
    "from langues_locales\n",
    "group by langues_locales.code_commune\n",
    "having tachelhit > tamazight \n",
    "and (tachelhit + tamazight )  > 50) list_provinces\n",
    "on list_provinces.code_commune = communes.code_commune;\"\"\"\n",
    "nb_rows = cursor.execute(queryQ11)\n",
    "dataOutQ11 = cursor.fetchall()\n",
    "dataOutQ11"
   ]
  },
  {
   "cell_type": "code",
   "execution_count": 59,
   "metadata": {},
   "outputs": [
    {
     "data": {
      "text/plain": [
       "((65,),)"
      ]
     },
     "execution_count": 59,
     "metadata": {},
     "output_type": "execute_result"
    }
   ],
   "source": [
    "#Quel est le nombre de provinces où le taux d’équipement des ménages en parabole est\n",
    "#supérieur à celui en réfrigérateur ?\n",
    "\n",
    "queryQ12 =\"\"\"\n",
    "select count(distinct code_province) as nbProvinces \n",
    "from communes\n",
    "join(\n",
    "select conditions_habitat.code_commune as code_commune , \n",
    "sum(conditions_habitat.autres_equipements_menagers_parabole)/2 as parabole,\n",
    "sum(conditions_habitat.autres_equipements_menagers_refrigerateur)/2 as refrigerateur\n",
    "from conditions_habitat\n",
    "group by conditions_habitat.code_commune\n",
    "having  parabole > refrigerateur\n",
    ") cndHabitat\n",
    "on cndHabitat.code_commune = communes.code_commune ; \"\"\"\n",
    "nb_rows = cursor.execute(queryQ12)\n",
    "dataOutQ12 = cursor.fetchall()\n",
    "dataOutQ12"
   ]
  },
  {
   "cell_type": "code",
   "execution_count": null,
   "metadata": {},
   "outputs": [],
   "source": []
  },
  {
   "cell_type": "code",
   "execution_count": null,
   "metadata": {},
   "outputs": [],
   "source": []
  }
 ],
 "metadata": {
  "kernelspec": {
   "display_name": "Python 3",
   "language": "python",
   "name": "python3"
  },
  "language_info": {
   "codemirror_mode": {
    "name": "ipython",
    "version": 3
   },
   "file_extension": ".py",
   "mimetype": "text/x-python",
   "name": "python",
   "nbconvert_exporter": "python",
   "pygments_lexer": "ipython3",
   "version": "3.7.4"
  }
 },
 "nbformat": 4,
 "nbformat_minor": 2
}
